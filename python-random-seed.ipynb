{
 "cells": [
  {
   "cell_type": "code",
   "execution_count": 9,
   "metadata": {},
   "outputs": [
    {
     "name": "stdout",
     "output_type": "stream",
     "text": [
      "0.9056396761745207\n",
      "0.6862541570267026\n",
      "\n",
      "0.9056396761745207\n",
      "0.6862541570267026\n",
      "\n",
      "0.9056396761745207\n",
      "0.6862541570267026\n",
      "\n"
     ]
    }
   ],
   "source": [
    "import random\n",
    "\n",
    "# 模拟多次执行同一代码块\n",
    "for j in range(0,3):\n",
    "    random.seed(20)\n",
    "    for i in range(0,2):\n",
    "        print(random.random())\n",
    "    print()"
   ]
  },
  {
   "cell_type": "code",
   "execution_count": 10,
   "metadata": {},
   "outputs": [
    {
     "name": "stdout",
     "output_type": "stream",
     "text": [
      "0.13128237876177629\n",
      "0.29702610187051104\n",
      "\n",
      "0.6347202330498025\n",
      "0.5537188472164749\n",
      "\n",
      "0.2474164833859246\n",
      "0.7797308149584463\n",
      "\n"
     ]
    }
   ],
   "source": [
    "# 模拟多次执行同一代码块\n",
    "for j in range(0,3):\n",
    "    # 默认以当前事件为seed\n",
    "    random.seed()\n",
    "    for i in range(0,2):\n",
    "        print(random.random())\n",
    "    print()"
   ]
  },
  {
   "cell_type": "code",
   "execution_count": null,
   "metadata": {},
   "outputs": [],
   "source": []
  }
 ],
 "metadata": {
  "kernelspec": {
   "display_name": "Python 3",
   "language": "python",
   "name": "python3"
  },
  "language_info": {
   "codemirror_mode": {
    "name": "ipython",
    "version": 3
   },
   "file_extension": ".py",
   "mimetype": "text/x-python",
   "name": "python",
   "nbconvert_exporter": "python",
   "pygments_lexer": "ipython3",
   "version": "3.6.5"
  }
 },
 "nbformat": 4,
 "nbformat_minor": 2
}
